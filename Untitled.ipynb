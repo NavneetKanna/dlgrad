{
 "cells": [
  {
   "cell_type": "code",
   "execution_count": 1,
   "id": "d403d10a-dd04-4db4-b98a-3b12132926b5",
   "metadata": {},
   "outputs": [],
   "source": [
    "from dlgrad import Tensor"
   ]
  },
  {
   "cell_type": "code",
   "execution_count": 3,
   "id": "2452ddb2-611e-4bb3-8331-bd992db28812",
   "metadata": {},
   "outputs": [
    {
     "name": "stdout",
     "output_type": "stream",
     "text": [
      "Device.CPU\n"
     ]
    }
   ],
   "source": [
    "a = Tensor.rand(2)"
   ]
  },
  {
   "cell_type": "code",
   "execution_count": 4,
   "id": "a3b0cab8-5cc9-4701-b5e6-a01443a397b5",
   "metadata": {},
   "outputs": [
    {
     "data": {
      "text/plain": [
       "<Device.CPU: 1>"
      ]
     },
     "execution_count": 4,
     "metadata": {},
     "output_type": "execute_result"
    }
   ],
   "source": [
    "a.device"
   ]
  },
  {
   "cell_type": "code",
   "execution_count": 5,
   "id": "b2971a6d-02f3-45c6-9008-bae0b54a651b",
   "metadata": {},
   "outputs": [
    {
     "data": {
      "text/plain": [
       "2"
      ]
     },
     "execution_count": 5,
     "metadata": {},
     "output_type": "execute_result"
    }
   ],
   "source": [
    "a.numel"
   ]
  },
  {
   "cell_type": "code",
   "execution_count": 6,
   "id": "be34d171-00f9-4a2a-9525-9b47168d3c77",
   "metadata": {},
   "outputs": [
    {
     "ename": "RecursionError",
     "evalue": "maximum recursion depth exceeded",
     "output_type": "error",
     "traceback": [
      "\u001b[0;31m---------------------------------------------------------------------------\u001b[0m",
      "\u001b[0;31mRecursionError\u001b[0m                            Traceback (most recent call last)",
      "Cell \u001b[0;32mIn[6], line 1\u001b[0m\n\u001b[0;32m----> 1\u001b[0m \u001b[43ma\u001b[49m\u001b[38;5;241;43m.\u001b[39;49m\u001b[43mstride\u001b[49m\n",
      "File \u001b[0;32m~/Documents/Projects/dlgrad/dlgrad/tensor.py:294\u001b[0m, in \u001b[0;36mTensor.stride\u001b[0;34m(self)\u001b[0m\n\u001b[1;32m    292\u001b[0m \u001b[38;5;129m@property\u001b[39m\n\u001b[1;32m    293\u001b[0m \u001b[38;5;28;01mdef\u001b[39;00m \u001b[38;5;21mstride\u001b[39m(\u001b[38;5;28mself\u001b[39m):\n\u001b[0;32m--> 294\u001b[0m     \u001b[38;5;28;01mreturn\u001b[39;00m \u001b[38;5;28;43mself\u001b[39;49m\u001b[38;5;241;43m.\u001b[39;49m\u001b[43mstride\u001b[49m\n",
      "File \u001b[0;32m~/Documents/Projects/dlgrad/dlgrad/tensor.py:294\u001b[0m, in \u001b[0;36mTensor.stride\u001b[0;34m(self)\u001b[0m\n\u001b[1;32m    292\u001b[0m \u001b[38;5;129m@property\u001b[39m\n\u001b[1;32m    293\u001b[0m \u001b[38;5;28;01mdef\u001b[39;00m \u001b[38;5;21mstride\u001b[39m(\u001b[38;5;28mself\u001b[39m):\n\u001b[0;32m--> 294\u001b[0m     \u001b[38;5;28;01mreturn\u001b[39;00m \u001b[38;5;28;43mself\u001b[39;49m\u001b[38;5;241;43m.\u001b[39;49m\u001b[43mstride\u001b[49m\n",
      "    \u001b[0;31m[... skipping similar frames: Tensor.stride at line 294 (2970 times)]\u001b[0m\n",
      "File \u001b[0;32m~/Documents/Projects/dlgrad/dlgrad/tensor.py:294\u001b[0m, in \u001b[0;36mTensor.stride\u001b[0;34m(self)\u001b[0m\n\u001b[1;32m    292\u001b[0m \u001b[38;5;129m@property\u001b[39m\n\u001b[1;32m    293\u001b[0m \u001b[38;5;28;01mdef\u001b[39;00m \u001b[38;5;21mstride\u001b[39m(\u001b[38;5;28mself\u001b[39m):\n\u001b[0;32m--> 294\u001b[0m     \u001b[38;5;28;01mreturn\u001b[39;00m \u001b[38;5;28;43mself\u001b[39;49m\u001b[38;5;241;43m.\u001b[39;49m\u001b[43mstride\u001b[49m\n",
      "\u001b[0;31mRecursionError\u001b[0m: maximum recursion depth exceeded"
     ]
    }
   ],
   "source": [
    "a.stride"
   ]
  },
  {
   "cell_type": "code",
   "execution_count": null,
   "id": "bbe507b4-c07e-4fa6-bf6e-9381cac9460d",
   "metadata": {},
   "outputs": [],
   "source": []
  }
 ],
 "metadata": {
  "kernelspec": {
   "display_name": "Python 3 (ipykernel)",
   "language": "python",
   "name": "python3"
  },
  "language_info": {
   "codemirror_mode": {
    "name": "ipython",
    "version": 3
   },
   "file_extension": ".py",
   "mimetype": "text/x-python",
   "name": "python",
   "nbconvert_exporter": "python",
   "pygments_lexer": "ipython3",
   "version": "3.10.14"
  }
 },
 "nbformat": 4,
 "nbformat_minor": 5
}
